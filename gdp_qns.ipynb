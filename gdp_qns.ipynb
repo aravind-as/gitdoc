{
 "cells": [
  {
   "cell_type": "code",
   "execution_count": 62,
   "id": "ce09dc8d",
   "metadata": {},
   "outputs": [],
   "source": [
    "import pandas as pd\n",
    "import numpy as np"
   ]
  },
  {
   "cell_type": "code",
   "execution_count": 12,
   "id": "6d20ceb6",
   "metadata": {},
   "outputs": [
    {
     "data": {
      "text/html": [
       "<div>\n",
       "<style scoped>\n",
       "    .dataframe tbody tr th:only-of-type {\n",
       "        vertical-align: middle;\n",
       "    }\n",
       "\n",
       "    .dataframe tbody tr th {\n",
       "        vertical-align: top;\n",
       "    }\n",
       "\n",
       "    .dataframe thead th {\n",
       "        text-align: right;\n",
       "    }\n",
       "</style>\n",
       "<table border=\"1\" class=\"dataframe\">\n",
       "  <thead>\n",
       "    <tr style=\"text-align: right;\">\n",
       "      <th></th>\n",
       "      <th>countries</th>\n",
       "      <th>gdp</th>\n",
       "    </tr>\n",
       "  </thead>\n",
       "  <tbody>\n",
       "    <tr>\n",
       "      <th>0</th>\n",
       "      <td>Algeria</td>\n",
       "      <td>2255.225482</td>\n",
       "    </tr>\n",
       "    <tr>\n",
       "      <th>1</th>\n",
       "      <td>Angola</td>\n",
       "      <td>629.955306</td>\n",
       "    </tr>\n",
       "    <tr>\n",
       "      <th>2</th>\n",
       "      <td>Argentina</td>\n",
       "      <td>11601.630220</td>\n",
       "    </tr>\n",
       "    <tr>\n",
       "      <th>3</th>\n",
       "      <td>Australia</td>\n",
       "      <td>25306.824940</td>\n",
       "    </tr>\n",
       "    <tr>\n",
       "      <th>4</th>\n",
       "      <td>Austria</td>\n",
       "      <td>27266.403350</td>\n",
       "    </tr>\n",
       "    <tr>\n",
       "      <th>...</th>\n",
       "      <td>...</td>\n",
       "      <td>...</td>\n",
       "    </tr>\n",
       "    <tr>\n",
       "      <th>58</th>\n",
       "      <td>United States</td>\n",
       "      <td>37691.027330</td>\n",
       "    </tr>\n",
       "    <tr>\n",
       "      <th>59</th>\n",
       "      <td>Uruguay</td>\n",
       "      <td>9581.056590</td>\n",
       "    </tr>\n",
       "    <tr>\n",
       "      <th>60</th>\n",
       "      <td>Venezuela</td>\n",
       "      <td>5671.912202</td>\n",
       "    </tr>\n",
       "    <tr>\n",
       "      <th>61</th>\n",
       "      <td>Vietnam</td>\n",
       "      <td>757.400929</td>\n",
       "    </tr>\n",
       "    <tr>\n",
       "      <th>62</th>\n",
       "      <td>Zimbabwe</td>\n",
       "      <td>347.745660</td>\n",
       "    </tr>\n",
       "  </tbody>\n",
       "</table>\n",
       "<p>63 rows × 2 columns</p>\n",
       "</div>"
      ],
      "text/plain": [
       "        countries           gdp\n",
       "0         Algeria   2255.225482\n",
       "1          Angola    629.955306\n",
       "2       Argentina  11601.630220\n",
       "3       Australia  25306.824940\n",
       "4         Austria  27266.403350\n",
       "..            ...           ...\n",
       "58  United States  37691.027330\n",
       "59        Uruguay   9581.056590\n",
       "60      Venezuela   5671.912202\n",
       "61        Vietnam    757.400929\n",
       "62       Zimbabwe    347.745660\n",
       "\n",
       "[63 rows x 2 columns]"
      ]
     },
     "execution_count": 12,
     "metadata": {},
     "output_type": "execute_result"
    }
   ],
   "source": [
    "data= {'countries':['Algeria','Angola','Argentina','Australia','Austria','Bahamas','Bangladesh','Belarus','Belgium','Bhutan','Brazil','Bulgaria','Cambodia','Cameroon','Chile','China','Colombia','Cyprus','Denmark','El Salvador','Estonia','Ethiopia','Fiji','Finland','France','Georgia','Ghana','Grenada','Guinea','Haiti','Honduras','Hungary','India','Indonesia','Ireland','Italy','Japan','Kenya', 'South Korea','Liberia','Malaysia','Mexico', 'Morocco','Nepal','New Zealand','Norway','Pakistan', 'Peru','Qatar','Russia','Singapore','South Africa','Spain','Sweden','Switzerland','Thailand', 'United Arab Emirates','United Kingdom','United States','Uruguay','Venezuela','Vietnam','Zimbabwe'\n",
    "\n",
    "],'gdp':[2255.225482,629.9553062,11601.63022,25306.82494,27266.40335,19466.99052,588.3691778,2890.345675,24733.62696,1445.760002,4803.398244,2618.876037,590.4521124,665.7982328,7122.938458,2639.54156,3362.4656,15378.16704,30860.12808,2579.115607,6525.541272,229.6769525,2242.689259,27570.4852,23016.84778,1334.646773,402.6953275,6047.200797,394.1156638,385.5793827,1414.072488,5745.981529,837.7464011,1206.991065,27715.52837,18937.24998,39578.07441,478.2194906,16684.21278,279.2204061,5345.213415,6288.25324,1908.304416,274.8728621,14646.42094,40034.85063,672.1547506,3359.517402,36152.66676,3054.727742,33529.83052,3825.093781,15428.32098,33630.24604,39170.41371,2699.123242,21058.43643,28272.40661,37691.02733,9581.05659,5671.912202,757.4009286,347.7456605]}\n",
    "df=pd.DataFrame(data)\n",
    "df"
   ]
  },
  {
   "cell_type": "code",
   "execution_count": 54,
   "id": "99a88e9d",
   "metadata": {},
   "outputs": [],
   "source": [
    "#Find and print the name of the country with the highest GDP"
   ]
  },
  {
   "cell_type": "code",
   "execution_count": 47,
   "id": "00888a9b",
   "metadata": {},
   "outputs": [
    {
     "data": {
      "text/plain": [
       "45"
      ]
     },
     "execution_count": 47,
     "metadata": {},
     "output_type": "execute_result"
    }
   ],
   "source": [
    "df['gdp'].idxmax()"
   ]
  },
  {
   "cell_type": "code",
   "execution_count": 48,
   "id": "ac430631",
   "metadata": {},
   "outputs": [
    {
     "data": {
      "text/plain": [
       "'Norway'"
      ]
     },
     "execution_count": 48,
     "metadata": {},
     "output_type": "execute_result"
    }
   ],
   "source": [
    "df.iloc[45,0]"
   ]
  },
  {
   "cell_type": "code",
   "execution_count": 55,
   "id": "3bd74734",
   "metadata": {},
   "outputs": [],
   "source": [
    "#Find and print the name of the country with the lowest GDP"
   ]
  },
  {
   "cell_type": "code",
   "execution_count": 41,
   "id": "9c6e59f1",
   "metadata": {},
   "outputs": [
    {
     "data": {
      "text/plain": [
       "21"
      ]
     },
     "execution_count": 41,
     "metadata": {},
     "output_type": "execute_result"
    }
   ],
   "source": [
    "df['gdp'].idxmin()"
   ]
  },
  {
   "cell_type": "code",
   "execution_count": 46,
   "id": "e17cfc3e",
   "metadata": {},
   "outputs": [
    {
     "data": {
      "text/plain": [
       "'Ethiopia'"
      ]
     },
     "execution_count": 46,
     "metadata": {},
     "output_type": "execute_result"
    }
   ],
   "source": [
    "df.iloc[21,0]"
   ]
  },
  {
   "cell_type": "code",
   "execution_count": 52,
   "id": "792e5d20",
   "metadata": {},
   "outputs": [],
   "source": [
    "#Print out text and input values iteratively"
   ]
  },
  {
   "cell_type": "code",
   "execution_count": 36,
   "id": "b8823906",
   "metadata": {},
   "outputs": [
    {
     "data": {
      "text/html": [
       "<div>\n",
       "<style scoped>\n",
       "    .dataframe tbody tr th:only-of-type {\n",
       "        vertical-align: middle;\n",
       "    }\n",
       "\n",
       "    .dataframe tbody tr th {\n",
       "        vertical-align: top;\n",
       "    }\n",
       "\n",
       "    .dataframe thead th {\n",
       "        text-align: right;\n",
       "    }\n",
       "</style>\n",
       "<table border=\"1\" class=\"dataframe\">\n",
       "  <thead>\n",
       "    <tr style=\"text-align: right;\">\n",
       "      <th></th>\n",
       "      <th>countries</th>\n",
       "      <th>gdp</th>\n",
       "    </tr>\n",
       "  </thead>\n",
       "  <tbody>\n",
       "    <tr>\n",
       "      <th>21</th>\n",
       "      <td>Ethiopia</td>\n",
       "      <td>229.676952</td>\n",
       "    </tr>\n",
       "    <tr>\n",
       "      <th>43</th>\n",
       "      <td>Nepal</td>\n",
       "      <td>274.872862</td>\n",
       "    </tr>\n",
       "    <tr>\n",
       "      <th>39</th>\n",
       "      <td>Liberia</td>\n",
       "      <td>279.220406</td>\n",
       "    </tr>\n",
       "    <tr>\n",
       "      <th>62</th>\n",
       "      <td>Zimbabwe</td>\n",
       "      <td>347.745660</td>\n",
       "    </tr>\n",
       "    <tr>\n",
       "      <th>29</th>\n",
       "      <td>Haiti</td>\n",
       "      <td>385.579383</td>\n",
       "    </tr>\n",
       "    <tr>\n",
       "      <th>...</th>\n",
       "      <td>...</td>\n",
       "      <td>...</td>\n",
       "    </tr>\n",
       "    <tr>\n",
       "      <th>48</th>\n",
       "      <td>Qatar</td>\n",
       "      <td>36152.666760</td>\n",
       "    </tr>\n",
       "    <tr>\n",
       "      <th>58</th>\n",
       "      <td>United States</td>\n",
       "      <td>37691.027330</td>\n",
       "    </tr>\n",
       "    <tr>\n",
       "      <th>54</th>\n",
       "      <td>Switzerland</td>\n",
       "      <td>39170.413710</td>\n",
       "    </tr>\n",
       "    <tr>\n",
       "      <th>36</th>\n",
       "      <td>Japan</td>\n",
       "      <td>39578.074410</td>\n",
       "    </tr>\n",
       "    <tr>\n",
       "      <th>45</th>\n",
       "      <td>Norway</td>\n",
       "      <td>40034.850630</td>\n",
       "    </tr>\n",
       "  </tbody>\n",
       "</table>\n",
       "<p>63 rows × 2 columns</p>\n",
       "</div>"
      ],
      "text/plain": [
       "        countries           gdp\n",
       "21       Ethiopia    229.676952\n",
       "43          Nepal    274.872862\n",
       "39        Liberia    279.220406\n",
       "62       Zimbabwe    347.745660\n",
       "29          Haiti    385.579383\n",
       "..            ...           ...\n",
       "48          Qatar  36152.666760\n",
       "58  United States  37691.027330\n",
       "54    Switzerland  39170.413710\n",
       "36          Japan  39578.074410\n",
       "45         Norway  40034.850630\n",
       "\n",
       "[63 rows x 2 columns]"
      ]
     },
     "execution_count": 36,
     "metadata": {},
     "output_type": "execute_result"
    }
   ],
   "source": [
    "df.sort_values('gdp')"
   ]
  },
  {
   "cell_type": "code",
   "execution_count": 50,
   "id": "b0081bbf",
   "metadata": {},
   "outputs": [],
   "source": [
    "#Print out the entire list of the countries with their GDPs"
   ]
  },
  {
   "cell_type": "code",
   "execution_count": 51,
   "id": "0b85d46b",
   "metadata": {},
   "outputs": [
    {
     "name": "stdout",
     "output_type": "stream",
     "text": [
      "Algeria - 2255.225482\n",
      "Angola - 629.9553062\n",
      "Argentina - 11601.63022\n",
      "Australia - 25306.82494\n",
      "Austria - 27266.40335\n",
      "Bahamas - 19466.99052\n",
      "Bangladesh - 588.3691778\n",
      "Belarus - 2890.345675\n",
      "Belgium - 24733.62696\n",
      "Bhutan - 1445.760002\n",
      "Brazil - 4803.398244\n",
      "Bulgaria - 2618.876037\n",
      "Cambodia - 590.4521124\n",
      "Cameroon - 665.7982328\n",
      "Chile - 7122.938458\n",
      "China - 2639.54156\n",
      "Colombia - 3362.4656\n",
      "Cyprus - 15378.16704\n",
      "Denmark - 30860.12808\n",
      "El Salvador - 2579.115607\n",
      "Estonia - 6525.541272\n",
      "Ethiopia - 229.6769525\n",
      "Fiji - 2242.689259\n",
      "Finland - 27570.4852\n",
      "France - 23016.84778\n",
      "Georgia - 1334.646773\n",
      "Ghana - 402.6953275\n",
      "Grenada - 6047.200797\n",
      "Guinea - 394.1156638\n",
      "Haiti - 385.5793827\n",
      "Honduras - 1414.072488\n",
      "Hungary - 5745.981529\n",
      "India - 837.7464011\n",
      "Indonesia - 1206.991065\n",
      "Ireland - 27715.52837\n",
      "Italy - 18937.24998\n",
      "Japan - 39578.07441\n",
      "Kenya - 478.2194906\n",
      "South Korea - 16684.21278\n",
      "Liberia - 279.2204061\n",
      "Malaysia - 5345.213415\n",
      "Mexico - 6288.25324\n",
      "Morocco - 1908.304416\n",
      "Nepal - 274.8728621\n",
      "New Zealand - 14646.42094\n",
      "Norway - 40034.85063\n",
      "Pakistan - 672.1547506\n",
      "Peru - 3359.517402\n",
      "Qatar - 36152.66676\n",
      "Russia - 3054.727742\n",
      "Singapore - 33529.83052\n",
      "South Africa - 3825.093781\n",
      "Spain - 15428.32098\n",
      "Sweden - 33630.24604\n",
      "Switzerland - 39170.41371\n",
      "Thailand - 2699.123242\n",
      "United Arab Emirates - 21058.43643\n",
      "United Kingdom - 28272.40661\n",
      "United States - 37691.02733\n",
      "Uruguay - 9581.05659\n",
      "Venezuela - 5671.912202\n",
      "Vietnam - 757.4009286\n",
      "Zimbabwe - 347.7456605\n"
     ]
    }
   ],
   "source": [
    "for i in range(63):\n",
    "    print(df.countries[i],\"-\",df.gdp[i])"
   ]
  },
  {
   "cell_type": "code",
   "execution_count": 49,
   "id": "064bc049",
   "metadata": {},
   "outputs": [],
   "source": [
    "#Print the highest GDP value, lowest GDP value, mean GDP value, standardized GDP value, and the sum of all the GDPs"
   ]
  },
  {
   "cell_type": "code",
   "execution_count": 57,
   "id": "d9c2ecff",
   "metadata": {},
   "outputs": [
    {
     "data": {
      "text/plain": [
       "40034.85063"
      ]
     },
     "execution_count": 57,
     "metadata": {},
     "output_type": "execute_result"
    }
   ],
   "source": [
    "df['gdp'].max()"
   ]
  },
  {
   "cell_type": "code",
   "execution_count": 58,
   "id": "ee241c1a",
   "metadata": {},
   "outputs": [
    {
     "data": {
      "text/plain": [
       "229.6769525"
      ]
     },
     "execution_count": 58,
     "metadata": {},
     "output_type": "execute_result"
    }
   ],
   "source": [
    "df['gdp'].min()"
   ]
  },
  {
   "cell_type": "code",
   "execution_count": 59,
   "id": "f4d49f72",
   "metadata": {},
   "outputs": [
    {
     "data": {
      "text/plain": [
       "11289.409271639684"
      ]
     },
     "execution_count": 59,
     "metadata": {},
     "output_type": "execute_result"
    }
   ],
   "source": [
    "df['gdp'].mean()"
   ]
  },
  {
   "cell_type": "code",
   "execution_count": 60,
   "id": "e39bb627",
   "metadata": {},
   "outputs": [
    {
     "data": {
      "text/plain": [
       "12846.190626580401"
      ]
     },
     "execution_count": 60,
     "metadata": {},
     "output_type": "execute_result"
    }
   ],
   "source": [
    "df['gdp'].std()"
   ]
  },
  {
   "cell_type": "code",
   "execution_count": 63,
   "id": "a2b170e3",
   "metadata": {},
   "outputs": [
    {
     "data": {
      "text/plain": [
       "711232.7841133"
      ]
     },
     "execution_count": 63,
     "metadata": {},
     "output_type": "execute_result"
    }
   ],
   "source": [
    "df['gdp'].sum()"
   ]
  },
  {
   "cell_type": "code",
   "execution_count": 64,
   "id": "2d604a10",
   "metadata": {},
   "outputs": [
    {
     "data": {
      "text/html": [
       "<div>\n",
       "<style scoped>\n",
       "    .dataframe tbody tr th:only-of-type {\n",
       "        vertical-align: middle;\n",
       "    }\n",
       "\n",
       "    .dataframe tbody tr th {\n",
       "        vertical-align: top;\n",
       "    }\n",
       "\n",
       "    .dataframe thead th {\n",
       "        text-align: right;\n",
       "    }\n",
       "</style>\n",
       "<table border=\"1\" class=\"dataframe\">\n",
       "  <thead>\n",
       "    <tr style=\"text-align: right;\">\n",
       "      <th></th>\n",
       "      <th>countries</th>\n",
       "      <th>gdp</th>\n",
       "    </tr>\n",
       "  </thead>\n",
       "  <tbody>\n",
       "    <tr>\n",
       "      <th>0</th>\n",
       "      <td>Algeria</td>\n",
       "      <td>2255.225482</td>\n",
       "    </tr>\n",
       "    <tr>\n",
       "      <th>1</th>\n",
       "      <td>Angola</td>\n",
       "      <td>629.955306</td>\n",
       "    </tr>\n",
       "    <tr>\n",
       "      <th>2</th>\n",
       "      <td>Argentina</td>\n",
       "      <td>11601.630220</td>\n",
       "    </tr>\n",
       "    <tr>\n",
       "      <th>3</th>\n",
       "      <td>Australia</td>\n",
       "      <td>25306.824940</td>\n",
       "    </tr>\n",
       "    <tr>\n",
       "      <th>4</th>\n",
       "      <td>Austria</td>\n",
       "      <td>27266.403350</td>\n",
       "    </tr>\n",
       "    <tr>\n",
       "      <th>...</th>\n",
       "      <td>...</td>\n",
       "      <td>...</td>\n",
       "    </tr>\n",
       "    <tr>\n",
       "      <th>58</th>\n",
       "      <td>United States</td>\n",
       "      <td>37691.027330</td>\n",
       "    </tr>\n",
       "    <tr>\n",
       "      <th>59</th>\n",
       "      <td>Uruguay</td>\n",
       "      <td>9581.056590</td>\n",
       "    </tr>\n",
       "    <tr>\n",
       "      <th>60</th>\n",
       "      <td>Venezuela</td>\n",
       "      <td>5671.912202</td>\n",
       "    </tr>\n",
       "    <tr>\n",
       "      <th>61</th>\n",
       "      <td>Vietnam</td>\n",
       "      <td>757.400929</td>\n",
       "    </tr>\n",
       "    <tr>\n",
       "      <th>62</th>\n",
       "      <td>Zimbabwe</td>\n",
       "      <td>347.745660</td>\n",
       "    </tr>\n",
       "  </tbody>\n",
       "</table>\n",
       "<p>63 rows × 2 columns</p>\n",
       "</div>"
      ],
      "text/plain": [
       "        countries           gdp\n",
       "0         Algeria   2255.225482\n",
       "1          Angola    629.955306\n",
       "2       Argentina  11601.630220\n",
       "3       Australia  25306.824940\n",
       "4         Austria  27266.403350\n",
       "..            ...           ...\n",
       "58  United States  37691.027330\n",
       "59        Uruguay   9581.056590\n",
       "60      Venezuela   5671.912202\n",
       "61        Vietnam    757.400929\n",
       "62       Zimbabwe    347.745660\n",
       "\n",
       "[63 rows x 2 columns]"
      ]
     },
     "execution_count": 64,
     "metadata": {},
     "output_type": "execute_result"
    }
   ],
   "source": [
    "df"
   ]
  },
  {
   "cell_type": "code",
   "execution_count": null,
   "id": "5c8968ac",
   "metadata": {},
   "outputs": [],
   "source": []
  }
 ],
 "metadata": {
  "kernelspec": {
   "display_name": "Python 3 (ipykernel)",
   "language": "python",
   "name": "python3"
  },
  "language_info": {
   "codemirror_mode": {
    "name": "ipython",
    "version": 3
   },
   "file_extension": ".py",
   "mimetype": "text/x-python",
   "name": "python",
   "nbconvert_exporter": "python",
   "pygments_lexer": "ipython3",
   "version": "3.9.7"
  }
 },
 "nbformat": 4,
 "nbformat_minor": 5
}
